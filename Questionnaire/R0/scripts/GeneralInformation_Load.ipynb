{
 "cells": [
  {
   "cell_type": "code",
   "execution_count": 1,
   "id": "f3e5f255",
   "metadata": {},
   "outputs": [],
   "source": [
    "import sys\n",
    "import os\n",
    "\n",
    "sys.path.append(os.path.abspath(\"N:\\\\CancerEpidem\\\\BrBreakthrough\\\\DeliveryProcess\\\\Schema_and_Derivation_utils\\\\Questionnaire\\\\R0\\\\scripts\"))\n",
    "from common_utils import load_and_pivot_data, load_schema, process_data, save_output, mask_pii, get_config, validate_data\n",
    "\n",
    "sys.path.append(os.path.abspath(\"N:\\\\CancerEpidem\\\\BrBreakthrough\\\\DeliveryProcess\\Schema_and_Derivation_utils\"))\n",
    "from utilities import connect_DB, createLogger, read_data"
   ]
  },
  {
   "cell_type": "code",
   "execution_count": 2,
   "id": "9d673ab8",
   "metadata": {},
   "outputs": [],
   "source": [
    "# Initialize\n",
    "config = get_config()\n",
    "logger = createLogger('GeneralInformation', config['Delivery_log_path'])\n",
    "question_range = 'BETWEEN 1 AND 40'"
   ]
  },
  {
   "cell_type": "code",
   "execution_count": 3,
   "id": "601025fe",
   "metadata": {},
   "outputs": [],
   "source": [
    "# Load data\n",
    "pivoted, dfPII = load_and_pivot_data(question_range, logger)\n",
    "schema = load_schema('GeneralInformation_JSON')"
   ]
  },
  {
   "cell_type": "code",
   "execution_count": 4,
   "id": "c46e6d4d",
   "metadata": {},
   "outputs": [
    {
     "name": "stdout",
     "output_type": "stream",
     "text": [
      "Processed 113766 participants\n"
     ]
    }
   ],
   "source": [
    "# Process data\n",
    "processed_data, changes = process_data(pivoted.to_dict('index'), schema)"
   ]
  },
  {
   "cell_type": "code",
   "execution_count": 5,
   "id": "3c60d3f1",
   "metadata": {},
   "outputs": [
    {
     "name": "stdout",
     "output_type": "stream",
     "text": [
      "JSON data is valid.\n"
     ]
    }
   ],
   "source": [
    "validate_data(processed_data, schema)"
   ]
  },
  {
   "cell_type": "code",
   "execution_count": null,
   "id": "036073a9",
   "metadata": {},
   "outputs": [],
   "source": [
    "# Remove PII\n",
    "processed_data = mask_pii(processed_data, dfPII)"
   ]
  },
  {
   "cell_type": "code",
   "execution_count": 6,
   "id": "88f94319",
   "metadata": {},
   "outputs": [
    {
     "name": "stderr",
     "output_type": "stream",
     "text": [
      "2025-06-11 15:14:13 - INFO: Saved output to N:\\CancerEpidem\\BrBreakthrough\\DeliveryProcess\\Data_Output_Testing\\Output_GeneralInformation.json\n"
     ]
    },
    {
     "name": "stdout",
     "output_type": "stream",
     "text": [
      "Output saved: N:\\CancerEpidem\\BrBreakthrough\\DeliveryProcess\\Data_Output_Testing\\Output_GeneralInformation.json\n"
     ]
    }
   ],
   "source": [
    "# Save output\n",
    "save_output(processed_data, 'Output_GeneralInformation', logger)"
   ]
  },
  {
   "cell_type": "code",
   "execution_count": null,
   "id": "9f248e1c",
   "metadata": {},
   "outputs": [],
   "source": []
  }
 ],
 "metadata": {
  "kernelspec": {
   "display_name": "Python 3",
   "language": "python",
   "name": "python3"
  },
  "language_info": {
   "codemirror_mode": {
    "name": "ipython",
    "version": 3
   },
   "file_extension": ".py",
   "mimetype": "text/x-python",
   "name": "python",
   "nbconvert_exporter": "python",
   "pygments_lexer": "ipython3",
   "version": "3.11.5"
  }
 },
 "nbformat": 4,
 "nbformat_minor": 5
}
