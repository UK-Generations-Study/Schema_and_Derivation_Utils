{
 "cells": [
  {
   "cell_type": "code",
   "execution_count": null,
   "id": "f3e5f255",
   "metadata": {},
   "outputs": [],
   "source": [
    "import sys\n",
    "import os\n",
    "import json\n",
    "import pandas as pd\n",
    "\n",
    "sys.path.append(os.path.abspath(\"N:\\\\CancerEpidem\\\\BrBreakthrough\\\\DeliveryProcess\\\\Schema_and_Derivation_utils\\\\Questionnaire\\\\R0\\\\scripts\"))\n",
    "from common_utils import load_and_pivot_data, load_schema, process_data, save_output, mask_pii, get_config, validate_data\n",
    "from schema_utils import build_variable_mapping, extract_constraints, extract_var_types\n",
    "from processing_utils import process_data, save_change_tracking\n",
    "from restructure_utils import restructure_physical_dev\n",
    "import CleaningRules as cr\n",
    "import NestedVariables as nv\n",
    "\n",
    "sys.path.append(os.path.abspath(\"N:\\\\CancerEpidem\\\\BrBreakthrough\\\\DeliveryProcess\\Schema_and_Derivation_utils\"))\n",
    "from utilities import connect_DB, createLogger, read_data\n",
    "from config import Delivery_log_path, test_server, r0_json_path, out_json_path"
   ]
  },
  {
   "cell_type": "code",
   "execution_count": 2,
   "id": "9d673ab8",
   "metadata": {},
   "outputs": [],
   "source": [
    "# Initialize\n",
    "config = get_config()\n",
    "logger = createLogger('PhysicalDevelopment', config['Delivery_log_path'])\n",
    "question_range = 'BETWEEN 101 AND 187'"
   ]
  },
  {
   "cell_type": "code",
   "execution_count": null,
   "id": "601025fe",
   "metadata": {},
   "outputs": [],
   "source": [
    "# Load data\n",
    "pivoted, dfPII = load_and_pivot_data(question_range, logger)"
   ]
  },
  {
   "cell_type": "code",
   "execution_count": null,
   "id": "4dbf1299",
   "metadata": {},
   "outputs": [],
   "source": [
    "pivoted = pivoted.fillna('').reset_index()\n",
    "pivotedDict = pivoted.set_index('StudyID').to_dict('index')"
   ]
  },
  {
   "cell_type": "code",
   "execution_count": null,
   "id": "632696b1",
   "metadata": {},
   "outputs": [],
   "source": [
    "schema = load_schema('PhysicalDevelopment_JSON')\n",
    "schema_props = schema[\"additionalProperties\"][\"properties\"]"
   ]
  },
  {
   "cell_type": "code",
   "execution_count": null,
   "id": "8ac363df",
   "metadata": {},
   "outputs": [
    {
     "name": "stdout",
     "output_type": "stream",
     "text": [
      "Extracted constraints for all fields\n",
      "Extracted variable types for all fields\n"
     ]
    }
   ],
   "source": [
    "variable_mapping = build_variable_mapping(schema)\n",
    "constraint_map = extract_constraints(schema_props)\n",
    "var_type_map = extract_var_types(schema_props)"
   ]
  },
  {
   "cell_type": "code",
   "execution_count": null,
   "id": "c46e6d4d",
   "metadata": {},
   "outputs": [],
   "source": [
    "# Process data\n",
    "processed_data, change_tracking = process_data(\n",
    "    pivotedDict,\n",
    "    variable_mapping,\n",
    "    var_type_map,\n",
    "    constraint_map,\n",
    "    cr.newValMap\n",
    ")"
   ]
  },
  {
   "cell_type": "code",
   "execution_count": null,
   "id": "335c717f",
   "metadata": {},
   "outputs": [],
   "source": [
    "processed_data[100042]"
   ]
  },
  {
   "cell_type": "code",
   "execution_count": null,
   "id": "e4af95bd",
   "metadata": {},
   "outputs": [],
   "source": [
    "json_data = restructure_physical_dev(processed_data, schema, variable_mapping)"
   ]
  },
  {
   "cell_type": "code",
   "execution_count": null,
   "id": "58fdb479",
   "metadata": {},
   "outputs": [],
   "source": [
    "json_data[100042]"
   ]
  },
  {
   "cell_type": "code",
   "execution_count": null,
   "id": "3c60d3f1",
   "metadata": {},
   "outputs": [
    {
     "name": "stdout",
     "output_type": "stream",
     "text": [
      "JSON data is valid.\n"
     ]
    }
   ],
   "source": [
    "validate_data(json_data, schema)"
   ]
  },
  {
   "cell_type": "code",
   "execution_count": null,
   "id": "036073a9",
   "metadata": {},
   "outputs": [],
   "source": [
    "# Remove PII\n",
    "json_data = mask_pii(json_data, dfPII)"
   ]
  },
  {
   "cell_type": "code",
   "execution_count": 13,
   "id": "88f94319",
   "metadata": {},
   "outputs": [
    {
     "name": "stderr",
     "output_type": "stream",
     "text": [
      "2025-06-13 11:45:27 - INFO: Saved output to N:\\CancerEpidem\\BrBreakthrough\\DeliveryProcess\\Data_Output_Testing\\Output_PhysicalDevelopment.json\n"
     ]
    },
    {
     "name": "stdout",
     "output_type": "stream",
     "text": [
      "Output saved: N:\\CancerEpidem\\BrBreakthrough\\DeliveryProcess\\Data_Output_Testing\\Output_PhysicalDevelopment.json\n"
     ]
    }
   ],
   "source": [
    "# Save output\n",
    "save_output(json_data, 'Output_PhysicalDevelopment', logger)"
   ]
  },
  {
   "cell_type": "code",
   "execution_count": null,
   "id": "9f248e1c",
   "metadata": {},
   "outputs": [],
   "source": []
  }
 ],
 "metadata": {
  "kernelspec": {
   "display_name": "Python 3",
   "language": "python",
   "name": "python3"
  },
  "language_info": {
   "codemirror_mode": {
    "name": "ipython",
    "version": 3
   },
   "file_extension": ".py",
   "mimetype": "text/x-python",
   "name": "python",
   "nbconvert_exporter": "python",
   "pygments_lexer": "ipython3",
   "version": "3.11.5"
  }
 },
 "nbformat": 4,
 "nbformat_minor": 5
}
